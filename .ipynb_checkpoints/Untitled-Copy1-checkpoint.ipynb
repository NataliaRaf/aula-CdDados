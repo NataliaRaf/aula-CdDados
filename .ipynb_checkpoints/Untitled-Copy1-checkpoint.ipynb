{
 "cells": [
  {
   "cell_type": "code",
   "execution_count": 12,
   "id": "505d52ca-90ce-40c2-a804-e6b5d8e77d58",
   "metadata": {},
   "outputs": [
    {
     "name": "stdout",
     "output_type": "stream",
     "text": [
      "35\n"
     ]
    }
   ],
   "source": [
    "#ex 1\n",
    "num1 = 10\n",
    "num2 = 25\n",
    "soma = num1 + num2\n",
    "print(soma)\n"
   ]
  },
  {
   "cell_type": "code",
   "execution_count": 13,
   "id": "033059a0-bf94-4619-810d-785d6da12c81",
   "metadata": {},
   "outputs": [
    {
     "name": "stdout",
     "output_type": "stream",
     "text": [
      "250\n"
     ]
    }
   ],
   "source": [
    "#ex 2\n",
    "num1 = 10\n",
    "num2 = 25\n",
    "\n",
    "multiplicacao = num1 * num2\n",
    "\n",
    "\n",
    "print(multiplicacao)\n",
    "\n"
   ]
  },
  {
   "cell_type": "code",
   "execution_count": 14,
   "id": "cb55cff5-fdc9-411a-a163-4b531391aaa7",
   "metadata": {},
   "outputs": [
    {
     "name": "stdout",
     "output_type": "stream",
     "text": [
      "A média das notas é: 8.5\n"
     ]
    }
   ],
   "source": [
    "#ex 3\n",
    "n1 = 8.5\n",
    "n2 = 7.8\n",
    "n3 = 9.2\n",
    "\n",
    "media = (n1 + n2 + n3) / 3\n",
    "\n",
    "print(\"A média das notas é:\", media)\n"
   ]
  },
  {
   "cell_type": "code",
   "execution_count": 15,
   "id": "6f668581-dbd1-497d-8ba1-98f02d95f51a",
   "metadata": {},
   "outputs": [
    {
     "name": "stdout",
     "output_type": "stream",
     "text": [
      "-10 é negativo.\n"
     ]
    }
   ],
   "source": [
    "#ex 4\n",
    "num = -10 \n",
    "\n",
    "if num > 0:\n",
    "    print( num, \"é positivo.\")\n",
    "elif num < 0:\n",
    "    print( num, \"é negativo.\")\n",
    "else:\n",
    "    print(\"O número é zero.\")\n"
   ]
  },
  {
   "cell_type": "code",
   "execution_count": 16,
   "id": "129bf5c9-c866-48c1-ab8a-c101cfbf7a13",
   "metadata": {},
   "outputs": [
    {
     "name": "stdout",
     "output_type": "stream",
     "text": [
      "4 é par.\n"
     ]
    }
   ],
   "source": [
    "#ex 5\n",
    "num2 = 4 \n",
    "if num2 % 2 == 0:\n",
    "    print( num2, \"é par.\")\n",
    "else:\n",
    "    print(num2, \"é ímpar.\")\n"
   ]
  },
  {
   "cell_type": "code",
   "execution_count": 17,
   "id": "a28a4a0f-813d-4871-b364-0a16c4c9cd38",
   "metadata": {},
   "outputs": [
    {
     "name": "stdout",
     "output_type": "stream",
     "text": [
      "Média: 8.5 - Aluno Aprovado!\n"
     ]
    }
   ],
   "source": [
    "#ex 6\n",
    "nota1 = 8.5\n",
    "nota2 = 7.8\n",
    "nota3 = 9.2\n",
    "\n",
    "media = (n1 + n2 + n3) / 3\n",
    "\n",
    "if media >= 6.0:\n",
    "    print(\"Média:\", round(media, 2), \"- Aluno Aprovado!\")\n",
    "elif 4.0 <= media < 6.0:\n",
    "    print(\"Média:\", round(media, 2), \"- Aluno em Recuperação! \")\n",
    "else:\n",
    "    print(\"Média:\", round(media, 2), \"- Aluno Reprovado! \")\n"
   ]
  },
  {
   "cell_type": "code",
   "execution_count": 19,
   "id": "2f7d6140-55e6-47e1-8ab5-13d1e55ae3a8",
   "metadata": {},
   "outputs": [
    {
     "name": "stdout",
     "output_type": "stream",
     "text": [
      "Idade: 26 - Adulto \n"
     ]
    }
   ],
   "source": [
    "#ex 7\n",
    "idade = 26\n",
    "\n",
    "if idade < 12:\n",
    "    print(\"Idade:\", idade, \"- Criança \")\n",
    "elif 12 <= idade < 18:\n",
    "    print(\"Idade:\", idade, \"- Adolescente \")\n",
    "elif 18 <= idade < 60:\n",
    "    print(\"Idade:\", idade, \"- Adulto \")\n",
    "else:\n",
    "    print(\"Idade:\", idade, \"- Idoso\")\n"
   ]
  },
  {
   "cell_type": "code",
   "execution_count": 20,
   "id": "5401b6dd-99b5-4f64-8609-3f684357e6dc",
   "metadata": {},
   "outputs": [
    {
     "name": "stdout",
     "output_type": "stream",
     "text": [
      "1\n",
      "2\n",
      "3\n",
      "4\n",
      "5\n",
      "6\n",
      "7\n",
      "8\n",
      "9\n",
      "10\n"
     ]
    }
   ],
   "source": [
    "#ex 8\n",
    "\n",
    "numero = 1\n",
    "\n",
    "while numero <= 10:\n",
    "    print(numero)\n",
    "    numero += 1 \n"
   ]
  },
  {
   "cell_type": "code",
   "execution_count": 21,
   "id": "c427f6cf-bf57-4064-b6a4-938b4c35f3ba",
   "metadata": {},
   "outputs": [
    {
     "name": "stdout",
     "output_type": "stream",
     "text": [
      "1\n",
      "2\n",
      "3\n",
      "4\n",
      "5\n",
      "6\n",
      "7\n",
      "8\n",
      "9\n",
      "10\n"
     ]
    }
   ],
   "source": [
    "# ex 9 \n",
    "for numero in range(1, 11):\n",
    "    print(numero)\n"
   ]
  },
  {
   "cell_type": "code",
   "execution_count": 22,
   "id": "b10ed699-e80d-4958-9ce2-dafaac170ef3",
   "metadata": {},
   "outputs": [
    {
     "name": "stdout",
     "output_type": "stream",
     "text": [
      "10 x 1 = 10\n",
      "10 x 2 = 20\n",
      "10 x 3 = 30\n",
      "10 x 4 = 40\n",
      "10 x 5 = 50\n",
      "10 x 6 = 60\n",
      "10 x 7 = 70\n",
      "10 x 8 = 80\n",
      "10 x 9 = 90\n",
      "10 x 10 = 100\n"
     ]
    }
   ],
   "source": [
    "# ex 10 \n",
    "\n",
    "num1 = 10 \n",
    "for i in range(1, 11):\n",
    "    print(f\"{num1} x {i} = {num1 * i}\")\n"
   ]
  },
  {
   "cell_type": "code",
   "execution_count": 23,
   "id": "276a3f90-6d00-47d1-b4f0-c0a38c0d789f",
   "metadata": {},
   "outputs": [
    {
     "name": "stdout",
     "output_type": "stream",
     "text": [
      "0\n",
      "10\n",
      "20\n",
      "30\n",
      "40\n",
      "50\n",
      "60\n",
      "70\n",
      "80\n",
      "90\n",
      "100\n"
     ]
    }
   ],
   "source": [
    "# ex 11 \n",
    "numero = 0\n",
    "\n",
    "\n",
    "while numero <= 100:\n",
    "    print(numero)\n",
    "    numero += 10  \n"
   ]
  },
  {
   "cell_type": "code",
   "execution_count": 24,
   "id": "d727f7e3-8125-4497-b563-191d4eb4ae1b",
   "metadata": {},
   "outputs": [
    {
     "name": "stdout",
     "output_type": "stream",
     "text": [
      "0\n",
      "2\n",
      "4\n",
      "6\n",
      "8\n",
      "10\n",
      "12\n",
      "14\n",
      "16\n",
      "18\n",
      "20\n"
     ]
    }
   ],
   "source": [
    "# ex 12 \n",
    "for numero in range(0, 21, 2):\n",
    "    print(numero)\n"
   ]
  },
  {
   "cell_type": "code",
   "execution_count": 25,
   "id": "bb65a001-64e9-4c58-b917-c62fe11ac1a2",
   "metadata": {},
   "outputs": [
    {
     "name": "stdout",
     "output_type": "stream",
     "text": [
      "25°C é igual a 77.0°F\n"
     ]
    }
   ],
   "source": [
    "# ex 13\n",
    "def celsiusParaFahrenheit(celsius):\n",
    "    fahre = celsius * 1.8 + 32\n",
    "    return fahre\n",
    "\n",
    "temperatura_celsius = 25  \n",
    "temperatura_fahrenheit = celsiusParaFahrenheit(temperatura_celsius)\n",
    "\n",
    "print(f\"{temperatura_celsius}°C é igual a {temperatura_fahrenheit}°F\")\n"
   ]
  },
  {
   "cell_type": "code",
   "execution_count": 27,
   "id": "1f933132-c2bb-46ed-8c85-0d67a09ec847",
   "metadata": {},
   "outputs": [
    {
     "name": "stdin",
     "output_type": "stream",
     "text": [
      "Digite o primeiro número:  1\n",
      "Digite o segundo número:  2\n",
      "Escolha a operação (+, -, *, /):  +\n"
     ]
    },
    {
     "name": "stdout",
     "output_type": "stream",
     "text": [
      "O resultado de 1.0 + 2.0 é 3.0\n"
     ]
    }
   ],
   "source": [
    "# ex 14 \n",
    "\n",
    "def calculadora():\n",
    "    \n",
    "    num1 = float(input(\"Digite o primeiro número: \"))\n",
    "    num2 = float(input(\"Digite o segundo número: \"))\n",
    "    operacao = input(\"Escolha a operação (+, -, *, /): \")\n",
    "\n",
    "    if operacao == \"+\":\n",
    "        resultado = num1 + num2\n",
    "        print(f\"O resultado de {num1} + {num2} é {resultado}\")\n",
    "    elif operacao == \"-\":\n",
    "        resultado = num1 - num2\n",
    "        print(f\"O resultado de {num1} - {num2} é {resultado}\")\n",
    "    elif operacao == \"*\":\n",
    "        resultado = num1 * num2\n",
    "        print(f\"O resultado de {num1} * {num2} é {resultado}\")\n",
    "    elif operacao == \"/\":\n",
    "        if num2 != 0:\n",
    "            resultado = num1 / num2\n",
    "            print(f\"O resultado de {num1} / {num2} é {resultado}\")\n",
    "        else:\n",
    "            print(\"Erro: Não é possível dividir por zero.\")\n",
    "    else:\n",
    "        print(\"Operação inválida. Tente novamente.\")\n",
    "\n",
    "calculadora()\n"
   ]
  },
  {
   "cell_type": "code",
   "execution_count": null,
   "id": "59ae7b69-d400-4d95-ab1c-67a2f8bb5a45",
   "metadata": {},
   "outputs": [],
   "source": []
  }
 ],
 "metadata": {
  "kernelspec": {
   "display_name": "Python 3 (ipykernel)",
   "language": "python",
   "name": "python3"
  },
  "language_info": {
   "codemirror_mode": {
    "name": "ipython",
    "version": 3
   },
   "file_extension": ".py",
   "mimetype": "text/x-python",
   "name": "python",
   "nbconvert_exporter": "python",
   "pygments_lexer": "ipython3",
   "version": "3.12.7"
  }
 },
 "nbformat": 4,
 "nbformat_minor": 5
}
